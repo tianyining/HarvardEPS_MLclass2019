{
  "nbformat": 4,
  "nbformat_minor": 0,
  "metadata": {
    "colab": {
      "name": "week3_quakedetection.ipynb",
      "provenance": [],
      "collapsed_sections": [],
      "include_colab_link": true
    },
    "kernelspec": {
      "name": "python3",
      "display_name": "Python 3"
    },
    "accelerator": "GPU"
  },
  "cells": [
    {
      "cell_type": "markdown",
      "metadata": {
        "id": "view-in-github",
        "colab_type": "text"
      },
      "source": [
        "<a href=\"https://colab.research.google.com/github/xtyangpsp/HarvardEPS_MLclass2019/blob/master/week3_quakedetection.ipynb\" target=\"_parent\"><img src=\"https://colab.research.google.com/assets/colab-badge.svg\" alt=\"Open In Colab\"/></a>"
      ]
    },
    {
      "cell_type": "code",
      "metadata": {
        "id": "gmILMqz3PgoY",
        "colab_type": "code",
        "outputId": "a1cf375d-babc-4fbd-b97c-a99f5d2d2a7d",
        "colab": {
          "base_uri": "https://localhost:8080/",
          "height": 34
        }
      },
      "source": [
        "import keras\n",
        "from keras import layers, models, regularizers\n",
        "import h5py\n",
        "import numpy as np\n",
        "import tensorflow as tf\n",
        "import matplotlib.pyplot as plt\n",
        "from keras.utils import to_categorical\n",
        "config = tf.ConfigProto( device_count = {'GPU': 1 , 'CPU': 6} ) \n",
        "sess = tf.Session(config=config) \n",
        "keras.backend.set_session(sess)"
      ],
      "execution_count": 0,
      "outputs": [
        {
          "output_type": "stream",
          "text": [
            "Using TensorFlow backend.\n"
          ],
          "name": "stderr"
        }
      ]
    },
    {
      "cell_type": "markdown",
      "metadata": {
        "id": "ZSRQ65K2WPv2",
        "colab_type": "text"
      },
      "source": [
        "Here we link the class google drive to this notebook"
      ]
    },
    {
      "cell_type": "code",
      "metadata": {
        "id": "boN4aLLXP7so",
        "colab_type": "code",
        "outputId": "12bd28da-8c2b-4686-dd57-95de185a85e8",
        "colab": {
          "base_uri": "https://localhost:8080/",
          "height": 34
        }
      },
      "source": [
        "from google.colab import drive\n",
        "drive.mount('/content/drive')"
      ],
      "execution_count": 0,
      "outputs": [
        {
          "output_type": "stream",
          "text": [
            "Drive already mounted at /content/drive; to attempt to forcibly remount, call drive.mount(\"/content/drive\", force_remount=True).\n"
          ],
          "name": "stdout"
        }
      ]
    },
    {
      "cell_type": "markdown",
      "metadata": {
        "id": "o6dh75eKWUqd",
        "colab_type": "text"
      },
      "source": [
        "Load the training data"
      ]
    },
    {
      "cell_type": "code",
      "metadata": {
        "id": "jqaOtxPSQ6lo",
        "colab_type": "code",
        "outputId": "c359ab68-8239-4228-eec2-2b8ef2d3d7cb",
        "colab": {
          "base_uri": "https://localhost:8080/",
          "height": 51
        }
      },
      "source": [
        "!ls \"/content/drive/My Drive/EPS268-ML/TUTORIALS/Quake_detection_week3\"\n",
        "\n",
        "# load OK029 template data:\n",
        "with h5py.File(\"/content/drive/My Drive/EPS268-ML/TUTORIALS/Quake_detection_week3/templates_029.h5\", \"r\") as f:\n",
        "    crap1 = np.asarray(f['earthquakes'])\n",
        "    crap2=np.asarray(f[\"noise\"])\n",
        "\n",
        "    # load OK027 template data:\n",
        "with h5py.File(\"/content/drive/My Drive/EPS268-ML/TUTORIALS/Quake_detection_week3/templates_027.h5\", \"r\") as f:\n",
        "    crap1 = np.asarray(f['earthquakes'])\n",
        "    crap2=np.asarray(f[\"noise\"])"
      ],
      "execution_count": 0,
      "outputs": [
        {
          "output_type": "stream",
          "text": [
            "convnetquake_in_keras.py  templates_027.h5\n",
            "OK027_july_2014.h5\t  templates_029.h5\n"
          ],
          "name": "stdout"
        }
      ]
    },
    {
      "cell_type": "markdown",
      "metadata": {
        "id": "8tEaIGqSWwCW",
        "colab_type": "text"
      },
      "source": [
        "Make the training data"
      ]
    },
    {
      "cell_type": "code",
      "metadata": {
        "id": "lOyymhWrSsTo",
        "colab_type": "code",
        "outputId": "430cfefa-141f-4319-c497-13a3234eac63",
        "colab": {
          "base_uri": "https://localhost:8080/",
          "height": 34
        }
      },
      "source": [
        "# make training data\n",
        "quakes=np.zeros(shape=(len(crap1[:,1,1]),1000,3),dtype=np.float32)\n",
        "noise=np.zeros(shape=(len(crap1[:,1,1]),1000,3),dtype=np.float32)\n",
        "quakes2=np.zeros(shape=(len(crap2[:,1,1]),1000,3),dtype=np.float32)\n",
        "noise2=np.zeros(shape=(len(crap2[:,1,1]),1000,3),dtype=np.float32)\n",
        "for iq in range(len(quakes[:,1,1])):\n",
        "    for ic in range(3):\n",
        "        if np.max(np.abs(crap1[iq,ic,:]))>0:\n",
        "            quakes[iq,:,ic]=crap1[iq,ic,:]/np.max(np.abs(crap1[iq,ic,:]))\n",
        "        if np.max(np.abs(crap2[iq,ic,:]))>0:\n",
        "            noise[iq,:,ic]=crap2[iq,ic,:]/np.max(np.abs(crap2[iq,ic,:]))\n",
        "\n",
        "for iq in range(len(crap1[:,1,1])):\n",
        "    for ic in range(3):\n",
        "        if np.max(np.abs(crap1[iq,ic,:]))>0:\n",
        "            quakes2[iq,:,ic]=crap1[iq,ic,:]/np.max(np.abs(crap1[iq,ic,:]))\n",
        "        if np.max(np.abs(crap2[iq,ic,:]))>0:\n",
        "            noise2[iq,:,ic]=crap2[iq,ic,:]/np.max(np.abs(crap2[iq,ic,:]))\n",
        "iq1=np.where( ( np.abs(quakes[:,0,0])>0)&(np.isfinite(quakes[:,0,0])))[0]\n",
        "iq2=np.where( (np.abs(quakes2[:,0,0])>0)&(np.isfinite(quakes2[:,0,0])))[0]\n",
        "print('done preparing the training data')"
      ],
      "execution_count": 0,
      "outputs": [
        {
          "output_type": "stream",
          "text": [
            "done preparing the training data\n"
          ],
          "name": "stdout"
        }
      ]
    },
    {
      "cell_type": "code",
      "metadata": {
        "id": "BUyF69nbS7pe",
        "colab_type": "code",
        "outputId": "b4e92aa4-cdd9-4612-972c-c653a27ae19d",
        "colab": {
          "base_uri": "https://localhost:8080/",
          "height": 34
        }
      },
      "source": [
        "# label data\n",
        "train_labels = np.concatenate((np.ones(len(iq1)+len(iq2),dtype=np.int),np.zeros(len(iq1)+len(iq2),dtype=np.int)))#+noise3.shape[0])))\n",
        "train_waves = np.zeros(shape=(len(train_labels),1000,3,1))\n",
        "train_waves[:,:,:,0] = np.concatenate((quakes[iq1,:,:],quakes2[iq2,:,:],noise[iq1,:,:],noise2[iq2,:,:]),axis=0)\n",
        "y_binary = to_categorical(train_labels)\n",
        "indx=np.random.choice(len(train_labels),len(train_labels))\n",
        "\n",
        "# train data is 80% of the entire data set\n",
        "ntrain = np.arange(0,round(0.8*len(indx)))\n",
        "ntest = np.arange(ntrain[-1]+1,len(indx))\n",
        "print(\"number of training samples\",len(ntrain),\"number of test tests\",len(ntest))"
      ],
      "execution_count": 0,
      "outputs": [
        {
          "output_type": "stream",
          "text": [
            "number of training samples 12710 number of test tests 3178\n"
          ],
          "name": "stdout"
        }
      ]
    },
    {
      "cell_type": "code",
      "metadata": {
        "id": "XAwFYwODTBBs",
        "colab_type": "code",
        "outputId": "43047014-5b76-42fd-da13-e0f50034967c",
        "colab": {
          "base_uri": "https://localhost:8080/",
          "height": 1000
        }
      },
      "source": [
        "l2, cats = 0.00001,2 # learning rate, number of classes output\n",
        "\n",
        "# building the architecture\n",
        "model = models.Sequential()\n",
        "model.add(layers.Conv2D(32, (3, 3), activation='relu', input_shape=(1000,3,1), use_bias=True, strides=(2,2), kernel_regularizer=regularizers.l2(l2), padding='SAME'))\n",
        "model.add(layers.Conv2D(32, (3, 3), activation='relu', use_bias=True, strides=(2,2), kernel_regularizer=regularizers.l2(l2), padding='SAME'))\n",
        "# model.add(layers.Conv2D(32, (3, 3), activation='relu', use_bias=True, strides=2, kernel_regularizer=regularizers.l2(l2), padding='SAME'))\n",
        "# model.add(layers.Conv2D(32, (3, 3), activation='relu', use_bias=True, strides=2, kernel_regularizer=regularizers.l2(l2), padding='SAME'))\n",
        "# model.add(layers.Conv2D(32, (3, 3), activation='relu', use_bias=True, strides=2, kernel_regularizer=regularizers.l2(l2), padding='SAME'))\n",
        "# model.add(layers.Conv2D(32, (3, 3), activation='relu', use_bias=True, strides=2, kernel_regularizer=regularizers.l2(l2), padding='SAME'))\n",
        "# model.add(layers.Conv2D(32, (3, 3), activation='relu', use_bias=True, strides=2, kernel_regularizer=regularizers.l2(l2), padding='SAME'))\n",
        "# model.add(layers.Conv2D(32, (3, 3), activation='relu', use_bias=True, strides=2, kernel_regularizer=regularizers.l2(l2), padding='SAME'))\n",
        "model.add(layers.Flatten())\n",
        "model.add(layers.Dense(cats, activation='softmax'))\n",
        "# compile the network\n",
        "model.compile(optimizer='adam',\n",
        "                loss='categorical_crossentropy',\n",
        "                metrics=['accuracy'])\n",
        "# training\n",
        "history=model.fit(train_waves[indx[ntrain],:,:,:], y_binary[indx[ntrain]],validation_split=0.2, epochs=20, batch_size=128,shuffle=True)\n",
        "# save the weights\n",
        "weights1=model.get_weights()\n",
        "\n",
        "print(len(weights1))\n",
        "\n",
        "# testing\n",
        "test=model.evaluate(train_waves[indx[ntest],:,:,:], y_binary[indx[ntest]],batch_size=64,verbose=1)\n",
        "print('loss and accuracy at test')\n",
        "print(test)"
      ],
      "execution_count": 0,
      "outputs": [
        {
          "output_type": "stream",
          "text": [
            "WARNING:tensorflow:From /usr/local/lib/python3.6/dist-packages/keras/backend/tensorflow_backend.py:66: The name tf.get_default_graph is deprecated. Please use tf.compat.v1.get_default_graph instead.\n",
            "\n",
            "WARNING:tensorflow:From /usr/local/lib/python3.6/dist-packages/keras/backend/tensorflow_backend.py:541: The name tf.placeholder is deprecated. Please use tf.compat.v1.placeholder instead.\n",
            "\n",
            "WARNING:tensorflow:From /usr/local/lib/python3.6/dist-packages/keras/backend/tensorflow_backend.py:4432: The name tf.random_uniform is deprecated. Please use tf.random.uniform instead.\n",
            "\n",
            "WARNING:tensorflow:From /usr/local/lib/python3.6/dist-packages/keras/optimizers.py:793: The name tf.train.Optimizer is deprecated. Please use tf.compat.v1.train.Optimizer instead.\n",
            "\n",
            "WARNING:tensorflow:From /usr/local/lib/python3.6/dist-packages/keras/backend/tensorflow_backend.py:3576: The name tf.log is deprecated. Please use tf.math.log instead.\n",
            "\n",
            "WARNING:tensorflow:From /usr/local/lib/python3.6/dist-packages/tensorflow/python/ops/math_grad.py:1250: add_dispatch_support.<locals>.wrapper (from tensorflow.python.ops.array_ops) is deprecated and will be removed in a future version.\n",
            "Instructions for updating:\n",
            "Use tf.where in 2.0, which has the same broadcast rule as np.where\n",
            "WARNING:tensorflow:From /usr/local/lib/python3.6/dist-packages/keras/backend/tensorflow_backend.py:1033: The name tf.assign_add is deprecated. Please use tf.compat.v1.assign_add instead.\n",
            "\n",
            "Train on 10168 samples, validate on 2542 samples\n",
            "Epoch 1/20\n",
            "10168/10168 [==============================] - 7s 717us/step - loss: 0.1610 - acc: 0.9400 - val_loss: 0.0227 - val_acc: 0.9976\n",
            "Epoch 2/20\n",
            "10168/10168 [==============================] - 1s 70us/step - loss: 0.0116 - acc: 0.9976 - val_loss: 0.0099 - val_acc: 0.9961\n",
            "Epoch 3/20\n",
            "10168/10168 [==============================] - 1s 67us/step - loss: 0.0041 - acc: 0.9993 - val_loss: 0.0018 - val_acc: 1.0000\n",
            "Epoch 4/20\n",
            "10168/10168 [==============================] - 1s 67us/step - loss: 0.0019 - acc: 0.9999 - val_loss: 0.0044 - val_acc: 0.9972\n",
            "Epoch 5/20\n",
            "10168/10168 [==============================] - 1s 69us/step - loss: 0.0014 - acc: 0.9998 - val_loss: 0.0017 - val_acc: 0.9988\n",
            "Epoch 6/20\n",
            "10168/10168 [==============================] - 1s 69us/step - loss: 7.7393e-04 - acc: 1.0000 - val_loss: 7.3153e-04 - val_acc: 1.0000\n",
            "Epoch 7/20\n",
            "10168/10168 [==============================] - 1s 69us/step - loss: 6.5663e-04 - acc: 1.0000 - val_loss: 7.3994e-04 - val_acc: 1.0000\n",
            "Epoch 8/20\n",
            "10168/10168 [==============================] - 1s 67us/step - loss: 5.9555e-04 - acc: 1.0000 - val_loss: 5.6330e-04 - val_acc: 1.0000\n",
            "Epoch 9/20\n",
            "10168/10168 [==============================] - 1s 68us/step - loss: 5.3932e-04 - acc: 1.0000 - val_loss: 5.4632e-04 - val_acc: 1.0000\n",
            "Epoch 10/20\n",
            "10168/10168 [==============================] - 1s 67us/step - loss: 5.0585e-04 - acc: 1.0000 - val_loss: 5.2540e-04 - val_acc: 1.0000\n",
            "Epoch 11/20\n",
            "10168/10168 [==============================] - 1s 68us/step - loss: 4.8966e-04 - acc: 1.0000 - val_loss: 4.7954e-04 - val_acc: 1.0000\n",
            "Epoch 12/20\n",
            "10168/10168 [==============================] - 1s 70us/step - loss: 4.6067e-04 - acc: 1.0000 - val_loss: 4.5248e-04 - val_acc: 1.0000\n",
            "Epoch 13/20\n",
            "10168/10168 [==============================] - 1s 67us/step - loss: 4.4316e-04 - acc: 1.0000 - val_loss: 4.5391e-04 - val_acc: 1.0000\n",
            "Epoch 14/20\n",
            "10168/10168 [==============================] - 1s 67us/step - loss: 4.3219e-04 - acc: 1.0000 - val_loss: 4.3261e-04 - val_acc: 1.0000\n",
            "Epoch 15/20\n",
            "10168/10168 [==============================] - 1s 66us/step - loss: 4.2268e-04 - acc: 1.0000 - val_loss: 4.2607e-04 - val_acc: 1.0000\n",
            "Epoch 16/20\n",
            "10168/10168 [==============================] - 1s 68us/step - loss: 4.1407e-04 - acc: 1.0000 - val_loss: 4.1372e-04 - val_acc: 1.0000\n",
            "Epoch 17/20\n",
            "10168/10168 [==============================] - 1s 71us/step - loss: 4.0483e-04 - acc: 1.0000 - val_loss: 4.0646e-04 - val_acc: 1.0000\n",
            "Epoch 18/20\n",
            "10168/10168 [==============================] - 1s 66us/step - loss: 3.9703e-04 - acc: 1.0000 - val_loss: 4.0149e-04 - val_acc: 1.0000\n",
            "Epoch 19/20\n",
            "10168/10168 [==============================] - 1s 67us/step - loss: 3.9015e-04 - acc: 1.0000 - val_loss: 3.9660e-04 - val_acc: 1.0000\n",
            "Epoch 20/20\n",
            "10168/10168 [==============================] - 1s 68us/step - loss: 3.8475e-04 - acc: 1.0000 - val_loss: 3.8976e-04 - val_acc: 1.0000\n",
            "6\n",
            "3178/3178 [==============================] - 0s 55us/step\n",
            "loss and accuracy at test\n",
            "[0.00039649755645471834, 1.0]\n"
          ],
          "name": "stdout"
        }
      ]
    },
    {
      "cell_type": "code",
      "metadata": {
        "id": "y8ui5JqLTE5-",
        "colab_type": "code",
        "outputId": "734c4f8c-2cb8-426a-8d57-cd325c3a645d",
        "colab": {
          "base_uri": "https://localhost:8080/",
          "height": 295
        }
      },
      "source": [
        "\n",
        "# check for overfitting\n",
        "history_dic = history.history\n",
        "loss_values = history_dic['loss']\n",
        "val_loss_values = history_dic['val_loss']\n",
        "acc_values = history_dic['acc']\n",
        "val_acc_values = history_dic['val_acc']\n",
        "epochs=range(1,len(loss_values)+1)\n",
        "fig,ax=plt.subplots(2)\n",
        "ax[0].plot(epochs,loss_values,'bo',label='Training loss')\n",
        "ax[0].plot(epochs,val_loss_values,'b',label='Validation loss')\n",
        "ax[0].set_title('Training and validation loss')\n",
        "ax[0].set_xlabel('Epochs')\n",
        "ax[0].set_ylabel('Loss')\n",
        "ax[0].legend()\n",
        "ax[1].plot(epochs,acc_values,'bo',label='Training accuracy')\n",
        "ax[1].plot(epochs,val_acc_values,'b',label='Validation accuracy')\n",
        "ax[1].set_title('Training and validation accuracy')\n",
        "ax[1].set_xlabel('Epochs')\n",
        "ax[1].set_ylabel('accuracy')\n",
        "ax[1].legend()\n",
        "plt.show()\n"
      ],
      "execution_count": 0,
      "outputs": [
        {
          "output_type": "display_data",
          "data": {
            "image/png": "[encoded data removed]",
            "text/plain": [
              "<Figure size 432x288 with 2 Axes>"
            ]
          },
          "metadata": {
            "tags": []
          }
        }
      ]
    },
    {
      "cell_type": "markdown",
      "metadata": {
        "id": "ZpvDU6p_aJUy",
        "colab_type": "text"
      },
      "source": [
        "# predict on continuous data"
      ]
    },
    {
      "cell_type": "code",
      "metadata": {
        "id": "JZ9hab8PaIJz",
        "colab_type": "code",
        "outputId": "587a4221-62f6-4d18-8667-a89818906702",
        "colab": {
          "base_uri": "https://localhost:8080/",
          "height": 68
        }
      },
      "source": [
        "# load long data:\n",
        "with h5py.File(\"/content/drive/My Drive/EPS268-ML/TUTORIALS/Quake_detection_week3/OK027_july_2014.h5\", \"r\") as f:\n",
        "    crap1 = np.asarray(f['seismic-data'])\n",
        "print(crap1.shape)\n"
      ],
      "execution_count": 0,
      "outputs": [
        {
          "output_type": "stream",
          "text": [
            "[[  895.   870.   831. ...  1401.  1395.  1407.]\n",
            " [ 1958.  1971.  1947. ...  1721.  1716.  1725.]\n",
            " [ 1365.  1383.  1390. ... -4793. -4797. -4783.]]\n"
          ],
          "name": "stdout"
        }
      ]
    },
    {
      "cell_type": "code",
      "metadata": {
        "id": "NCKuXrDvbVGj",
        "colab_type": "code",
        "outputId": "a8d75ef4-29ea-4de6-e6b0-f4203c325b01",
        "colab": {
          "base_uri": "https://localhost:8080/",
          "height": 286
        }
      },
      "source": [
        "plt.plot(crap1[:,10000:12000].transpose())\n",
        "print(crap1.shape)"
      ],
      "execution_count": 0,
      "outputs": [
        {
          "output_type": "stream",
          "text": [
            "(3, 267839901)\n"
          ],
          "name": "stdout"
        },
        {
          "output_type": "display_data",
          "data": {
            "image/png": "[encoded data removed]",
            "text/plain": [
              "<Figure size 432x288 with 1 Axes>"
            ]
          },
          "metadata": {
            "tags": []
          }
        }
      ]
    },
    {
      "cell_type": "code",
      "metadata": {
        "id": "uwrdQ_42cSRz",
        "colab_type": "code",
        "outputId": "921cedc5-9795-41d2-b192-63f91483e432",
        "colab": {
          "base_uri": "https://localhost:8080/",
          "height": 392
        }
      },
      "source": [
        "# here you want to slide through the data.\n",
        "twin= 10 # seconds\n",
        "sps = 100 # 100Hz sampling rate\n",
        "stepsize = 2 # every 2 seconds\n",
        "nwin = int(twin*sps)\n",
        "nsps = int(stepsize*sps)\n",
        "i=0\n",
        "while i < crap1.shape[1]:\n",
        "  print(i/100,(i+nwin)/100)\n",
        "#   window0 = crap1[0, i:i+nwin]\n",
        "  model.predict(crap1[:,i:i+nwin])\n",
        "  \n",
        "  \n",
        "  exit()\n",
        "  \n",
        "  i+=nsps"
      ],
      "execution_count": 0,
      "outputs": [
        {
          "output_type": "stream",
          "text": [
            "0.0 10.0\n"
          ],
          "name": "stdout"
        },
        {
          "output_type": "error",
          "ename": "ValueError",
          "evalue": "ignored",
          "traceback": [
            "\u001b[0;31m---------------------------------------------------------------------------\u001b[0m",
            "\u001b[0;31mValueError\u001b[0m                                Traceback (most recent call last)",
            "\u001b[0;32m<ipython-input-25-08b677c6985a>\u001b[0m in \u001b[0;36m<module>\u001b[0;34m()\u001b[0m\n\u001b[1;32m      8\u001b[0m   \u001b[0mprint\u001b[0m\u001b[0;34m(\u001b[0m\u001b[0mi\u001b[0m\u001b[0;34m/\u001b[0m\u001b[0;36m100\u001b[0m\u001b[0;34m,\u001b[0m\u001b[0;34m(\u001b[0m\u001b[0mi\u001b[0m\u001b[0;34m+\u001b[0m\u001b[0mnwin\u001b[0m\u001b[0;34m)\u001b[0m\u001b[0;34m/\u001b[0m\u001b[0;36m100\u001b[0m\u001b[0;34m)\u001b[0m\u001b[0;34m\u001b[0m\u001b[0;34m\u001b[0m\u001b[0m\n\u001b[1;32m      9\u001b[0m \u001b[0;31m#   window0 = crap1[0, i:i+nwin]\u001b[0m\u001b[0;34m\u001b[0m\u001b[0;34m\u001b[0m\u001b[0;34m\u001b[0m\u001b[0m\n\u001b[0;32m---> 10\u001b[0;31m   \u001b[0mmodel\u001b[0m\u001b[0;34m.\u001b[0m\u001b[0mpredict\u001b[0m\u001b[0;34m(\u001b[0m\u001b[0mcrap1\u001b[0m\u001b[0;34m[\u001b[0m\u001b[0;34m:\u001b[0m\u001b[0;34m,\u001b[0m\u001b[0mi\u001b[0m\u001b[0;34m:\u001b[0m\u001b[0mi\u001b[0m\u001b[0;34m+\u001b[0m\u001b[0mnwin\u001b[0m\u001b[0;34m]\u001b[0m\u001b[0;34m)\u001b[0m\u001b[0;34m\u001b[0m\u001b[0;34m\u001b[0m\u001b[0m\n\u001b[0m\u001b[1;32m     11\u001b[0m \u001b[0;34m\u001b[0m\u001b[0m\n\u001b[1;32m     12\u001b[0m \u001b[0;34m\u001b[0m\u001b[0m\n",
            "\u001b[0;32m/usr/local/lib/python3.6/dist-packages/keras/engine/training.py\u001b[0m in \u001b[0;36mpredict\u001b[0;34m(self, x, batch_size, verbose, steps, callbacks, max_queue_size, workers, use_multiprocessing)\u001b[0m\n\u001b[1;32m   1378\u001b[0m \u001b[0;34m\u001b[0m\u001b[0m\n\u001b[1;32m   1379\u001b[0m         \u001b[0;31m# Case 2: Symbolic tensors or Numpy array-like.\u001b[0m\u001b[0;34m\u001b[0m\u001b[0;34m\u001b[0m\u001b[0;34m\u001b[0m\u001b[0m\n\u001b[0;32m-> 1380\u001b[0;31m         \u001b[0mx\u001b[0m\u001b[0;34m,\u001b[0m \u001b[0m_\u001b[0m\u001b[0;34m,\u001b[0m \u001b[0m_\u001b[0m \u001b[0;34m=\u001b[0m \u001b[0mself\u001b[0m\u001b[0;34m.\u001b[0m\u001b[0m_standardize_user_data\u001b[0m\u001b[0;34m(\u001b[0m\u001b[0mx\u001b[0m\u001b[0;34m)\u001b[0m\u001b[0;34m\u001b[0m\u001b[0;34m\u001b[0m\u001b[0m\n\u001b[0m\u001b[1;32m   1381\u001b[0m         \u001b[0;32mif\u001b[0m \u001b[0mself\u001b[0m\u001b[0;34m.\u001b[0m\u001b[0mstateful\u001b[0m\u001b[0;34m:\u001b[0m\u001b[0;34m\u001b[0m\u001b[0;34m\u001b[0m\u001b[0m\n\u001b[1;32m   1382\u001b[0m             \u001b[0;32mif\u001b[0m \u001b[0mx\u001b[0m\u001b[0;34m[\u001b[0m\u001b[0;36m0\u001b[0m\u001b[0;34m]\u001b[0m\u001b[0;34m.\u001b[0m\u001b[0mshape\u001b[0m\u001b[0;34m[\u001b[0m\u001b[0;36m0\u001b[0m\u001b[0;34m]\u001b[0m \u001b[0;34m>\u001b[0m \u001b[0mbatch_size\u001b[0m \u001b[0;32mand\u001b[0m \u001b[0mx\u001b[0m\u001b[0;34m[\u001b[0m\u001b[0;36m0\u001b[0m\u001b[0;34m]\u001b[0m\u001b[0;34m.\u001b[0m\u001b[0mshape\u001b[0m\u001b[0;34m[\u001b[0m\u001b[0;36m0\u001b[0m\u001b[0;34m]\u001b[0m \u001b[0;34m%\u001b[0m \u001b[0mbatch_size\u001b[0m \u001b[0;34m!=\u001b[0m \u001b[0;36m0\u001b[0m\u001b[0;34m:\u001b[0m\u001b[0;34m\u001b[0m\u001b[0;34m\u001b[0m\u001b[0m\n",
            "\u001b[0;32m/usr/local/lib/python3.6/dist-packages/keras/engine/training.py\u001b[0m in \u001b[0;36m_standardize_user_data\u001b[0;34m(self, x, y, sample_weight, class_weight, check_array_lengths, batch_size)\u001b[0m\n\u001b[1;32m    755\u001b[0m             \u001b[0mfeed_input_shapes\u001b[0m\u001b[0;34m,\u001b[0m\u001b[0;34m\u001b[0m\u001b[0;34m\u001b[0m\u001b[0m\n\u001b[1;32m    756\u001b[0m             \u001b[0mcheck_batch_axis\u001b[0m\u001b[0;34m=\u001b[0m\u001b[0;32mFalse\u001b[0m\u001b[0;34m,\u001b[0m  \u001b[0;31m# Don't enforce the batch size.\u001b[0m\u001b[0;34m\u001b[0m\u001b[0;34m\u001b[0m\u001b[0m\n\u001b[0;32m--> 757\u001b[0;31m             exception_prefix='input')\n\u001b[0m\u001b[1;32m    758\u001b[0m \u001b[0;34m\u001b[0m\u001b[0m\n\u001b[1;32m    759\u001b[0m         \u001b[0;32mif\u001b[0m \u001b[0my\u001b[0m \u001b[0;32mis\u001b[0m \u001b[0;32mnot\u001b[0m \u001b[0;32mNone\u001b[0m\u001b[0;34m:\u001b[0m\u001b[0;34m\u001b[0m\u001b[0;34m\u001b[0m\u001b[0m\n",
            "\u001b[0;32m/usr/local/lib/python3.6/dist-packages/keras/engine/training_utils.py\u001b[0m in \u001b[0;36mstandardize_input_data\u001b[0;34m(data, names, shapes, check_batch_axis, exception_prefix)\u001b[0m\n\u001b[1;32m    129\u001b[0m                         \u001b[0;34m': expected '\u001b[0m \u001b[0;34m+\u001b[0m \u001b[0mnames\u001b[0m\u001b[0;34m[\u001b[0m\u001b[0mi\u001b[0m\u001b[0;34m]\u001b[0m \u001b[0;34m+\u001b[0m \u001b[0;34m' to have '\u001b[0m \u001b[0;34m+\u001b[0m\u001b[0;34m\u001b[0m\u001b[0;34m\u001b[0m\u001b[0m\n\u001b[1;32m    130\u001b[0m                         \u001b[0mstr\u001b[0m\u001b[0;34m(\u001b[0m\u001b[0mlen\u001b[0m\u001b[0;34m(\u001b[0m\u001b[0mshape\u001b[0m\u001b[0;34m)\u001b[0m\u001b[0;34m)\u001b[0m \u001b[0;34m+\u001b[0m \u001b[0;34m' dimensions, but got array '\u001b[0m\u001b[0;34m\u001b[0m\u001b[0;34m\u001b[0m\u001b[0m\n\u001b[0;32m--> 131\u001b[0;31m                         'with shape ' + str(data_shape))\n\u001b[0m\u001b[1;32m    132\u001b[0m                 \u001b[0;32mif\u001b[0m \u001b[0;32mnot\u001b[0m \u001b[0mcheck_batch_axis\u001b[0m\u001b[0;34m:\u001b[0m\u001b[0;34m\u001b[0m\u001b[0;34m\u001b[0m\u001b[0m\n\u001b[1;32m    133\u001b[0m                     \u001b[0mdata_shape\u001b[0m \u001b[0;34m=\u001b[0m \u001b[0mdata_shape\u001b[0m\u001b[0;34m[\u001b[0m\u001b[0;36m1\u001b[0m\u001b[0;34m:\u001b[0m\u001b[0;34m]\u001b[0m\u001b[0;34m\u001b[0m\u001b[0;34m\u001b[0m\u001b[0m\n",
            "\u001b[0;31mValueError\u001b[0m: Error when checking input: expected conv2d_1_input to have 4 dimensions, but got array with shape (3, 1000)"
          ]
        }
      ]
    },
    {
      "cell_type": "markdown",
      "metadata": {
        "id": "0lCfb3rsP0Jh",
        "colab_type": "text"
      },
      "source": [
        ""
      ]
    }
  ]
}